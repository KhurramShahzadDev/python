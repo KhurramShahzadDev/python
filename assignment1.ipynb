{
 "cells": [
  {
   "cell_type": "code",
   "execution_count": 2,
   "metadata": {},
   "outputs": [],
   "source": [
    "#import the library of Numpy\n",
    "import numpy as np"
   ]
  },
  {
   "cell_type": "code",
   "execution_count": 9,
   "metadata": {},
   "outputs": [
    {
     "name": "stdout",
     "output_type": "stream",
     "text": [
      "The input layer values are given below\n",
      "5 3\n"
     ]
    }
   ],
   "source": [
    "# in first step we will put the input layers values\n",
    "x1 = 5\n",
    "x2 = 3\n",
    "input_layer_values=np.array([x1,x2])\n",
    "print(\"The input layer values are given below\")\n",
    "print( x1,x2)"
   ]
  },
  {
   "cell_type": "code",
   "execution_count": 12,
   "metadata": {},
   "outputs": [
    {
     "name": "stdout",
     "output_type": "stream",
     "text": [
      "The weight given to our hidden layers are as follow\n",
      "[[0.4, 0.2], [0.1, 0.6], [0.3, 0.5], [0.7, 0.8]]\n"
     ]
    }
   ],
   "source": [
    "# in this section we will define the hidden layer weight values\n",
    "weight_of_hidden_layers=([\n",
    "                          [0.4,0.2],\n",
    "                           [0.1,0.6],\n",
    "                            [0.3,0.5],\n",
    "                             [0.7,0.8]\n",
    "                        ])\n",
    "print(\"The weight given to our hidden layers are as follow\")\n",
    "print(weight_of_hidden_layers)"
   ]
  },
  {
   "cell_type": "code",
   "execution_count": 4,
   "metadata": {},
   "outputs": [
    {
     "name": "stdout",
     "output_type": "stream",
     "text": [
      "The Bias to hidden layers \n",
      "[1, 1, 1, 1]\n"
     ]
    }
   ],
   "source": [
    "#bias given to each of our hidden layers\n",
    "bias_to_hidden_layers=([1,1,1,1]) \n",
    "print(\"The Bias to hidden layers \")\n",
    "print(bias_to_hidden_layers)"
   ]
  },
  {
   "cell_type": "code",
   "execution_count": 7,
   "metadata": {},
   "outputs": [
    {
     "name": "stdout",
     "output_type": "stream",
     "text": [
      "The weight to oupput layer is as follow\n",
      "[0.9, 0.5, 0.3, 0.4]\n"
     ]
    }
   ],
   "source": [
    "# weight given to output layer\n",
    "weight_to_output_layer=([0.9,0.5,0.3,0.4]) \n",
    "print(\"The weight to oupput layer is as follow\")\n",
    "print(weight_to_output_layer)"
   ]
  },
  {
   "cell_type": "code",
   "execution_count": 12,
   "metadata": {},
   "outputs": [
    {
     "name": "stdout",
     "output_type": "stream",
     "text": [
      "The bias   to oupput layer is as follow\n",
      "1\n"
     ]
    }
   ],
   "source": [
    "# bias given to our output layer is\n",
    "bias_to_output_layer=1\n",
    "print(\"The bias   to oupput layer is as follow\")\n",
    "print(bias_to_output_layer)\n"
   ]
  },
  {
   "cell_type": "code",
   "execution_count": 15,
   "metadata": {},
   "outputs": [],
   "source": [
    "# define the activation function(Sigmoid funtion), it will be used to compute result after the dot of weight and inputs\n",
    "def sigmoid_formula(x):\n",
    "    return 1/1+np.e(-x)\n",
    "# here x will be the output values from the dot of weights and inputs  of layers\n",
    " "
   ]
  },
  {
   "cell_type": "code",
   "execution_count": null,
   "metadata": {},
   "outputs": [],
   "source": []
  }
 ],
 "metadata": {
  "kernelspec": {
   "display_name": "Python 3",
   "language": "python",
   "name": "python3"
  },
  "language_info": {
   "codemirror_mode": {
    "name": "ipython",
    "version": 3
   },
   "file_extension": ".py",
   "mimetype": "text/x-python",
   "name": "python",
   "nbconvert_exporter": "python",
   "pygments_lexer": "ipython3",
   "version": "3.12.0"
  }
 },
 "nbformat": 4,
 "nbformat_minor": 2
}
